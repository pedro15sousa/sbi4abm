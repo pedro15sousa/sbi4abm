{
 "cells": [
  {
   "cell_type": "code",
   "execution_count": 1,
   "metadata": {},
   "outputs": [],
   "source": [
    "import sys\n",
    "sys.path.append('../..')"
   ]
  },
  {
   "cell_type": "code",
   "execution_count": 2,
   "metadata": {},
   "outputs": [
    {
     "name": "stderr",
     "output_type": "stream",
     "text": [
      "/home/pmms2/sbi4abm/py_env/lib/python3.11/site-packages/tqdm/auto.py:21: TqdmWarning: IProgress not found. Please update jupyter and ipywidgets. See https://ipywidgets.readthedocs.io/en/stable/user_install.html\n",
      "  from .autonotebook import tqdm as notebook_tqdm\n"
     ]
    }
   ],
   "source": [
    "import sbi4abm.sbi\n",
    "from sbi4abm.sbi import analysis, utils\n",
    "from sbi4abm.utils import sampling, plotting\n",
    "import matplotlib\n",
    "import matplotlib.pyplot as plt\n",
    "import numpy as np\n",
    "import torch\n",
    "import pickle\n",
    "import seaborn as sns\n",
    "import torch.nn.functional as F"
   ]
  },
  {
   "cell_type": "code",
   "execution_count": 3,
   "metadata": {},
   "outputs": [],
   "source": [
    "matplotlib.rc('text', usetex=True)\n",
    "plt.rcParams.update({\n",
    "  \"text.usetex\": False,\n",
    "  \"font.family\": \"serif\"\n",
    "})\n",
    "plt.rcParams.update({\n",
    "    'text.latex.preamble':r\"\\usepackage{amsmath}\"+\"\\n\"+r\"\\usepackage{bm}\"\n",
    "})"
   ]
  },
  {
   "cell_type": "code",
   "execution_count": 4,
   "metadata": {},
   "outputs": [
    {
     "data": {
      "image/png": "[encoded data removed]",
      "text/plain": [
       "<Figure size 1000x1000 with 4 Axes>"
      ]
     },
     "metadata": {},
     "output_type": "display_data"
    }
   ],
   "source": [
    "covid = np.loadtxt(\"../../exp_dir/covid/1718568622.5112076/samples.txt\")\n",
    "plt.rcParams.update({'font.size':18}) # something about latex font\n",
    "_ = analysis.pairplot(covid, limits=[[0,2], [1,10]], points=[np.array([0.25, 1])],\n",
    "                      points_colors='r', labels=[\"g_2\", \"b_2\"],\n",
    "                      hist_diag={\"alpha\": 1.0, \"bins\": 25, \"density\": False, \"histtype\": \"step\"})"
   ]
  },
  {
   "cell_type": "code",
   "execution_count": 10,
   "metadata": {},
   "outputs": [
    {
     "name": "stdout",
     "output_type": "stream",
     "text": [
      "Only one parameter has a uniform distribution.\n"
     ]
    }
   ],
   "source": [
    "from sbi4abm.utils import io\n",
    "\n",
    "covidf = io.load_task('covid')\n",
    "\n",
    "file_name = \"1718568622.5112076\"\n",
    "with open(f\"../../exp_dir/covid/{file_name}/posteriors.pkl\", 'rb') as file:\n",
    "    posterior = pickle.load(file)\n",
    "    posterior = posterior[0]"
   ]
  },
  {
   "cell_type": "code",
   "execution_count": 6,
   "metadata": {},
   "outputs": [
    {
     "name": "stdout",
     "output_type": "stream",
     "text": [
      "Mean estimate: [1.03276137 5.90669599]\n"
     ]
    }
   ],
   "source": [
    "mean_estimate = np.mean(covid, axis=0)\n",
    "print(f\"Mean estimate: {mean_estimate}\")"
   ]
  },
  {
   "cell_type": "code",
   "execution_count": 7,
   "metadata": {},
   "outputs": [
    {
     "name": "stdout",
     "output_type": "stream",
     "text": [
      "tensor([0.2500, 1.0000], dtype=torch.float64)\n",
      "tensor([1.0328, 5.9067], dtype=torch.float64)\n",
      "Loss between mean theta and true theta: 12.344190474575486\n"
     ]
    }
   ],
   "source": [
    "true_theta = torch.tensor(covidf[3])\n",
    "mean_theta = torch.tensor(mean_estimate)\n",
    "print(true_theta)\n",
    "print(mean_theta)\n",
    "loss = F.mse_loss(mean_theta, true_theta)\n",
    "print(f\"Loss between mean theta and true theta: {loss.item()}\")"
   ]
  },
  {
   "cell_type": "code",
   "execution_count": 9,
   "metadata": {},
   "outputs": [
    {
     "name": "stdout",
     "output_type": "stream",
     "text": [
      "Param Value:  1.0327613739188108\n",
      "Command line: /home/pmms2/report9/covid-sim/build/src/CovidSim /c:120 /NR:1 /PP:/home/pmms2/report9/covid-sim/report9/GB_suppress/preGB_R0=2.0.txt /P:/home/pmms2/report9/covid-sim/report9/GB_suppress/p_PC_CI_HQ_SD.txt /CLP1:400 /CLP2:1000 /CLP3:1000 /CLP4:1000 /CLP5:300 /CLP6:1.0327613739188108 /CLP7:5.9066959943175315 /O:/home/pmms2/report9/covid-sim/report9/GB_suppress/output/PC_CI_HQ_SD_400_300_R0=2.6 /D:/home/pmms2/report9/covid-sim/report9/population/GB_pop2018.bin /L:/home/pmms2/report9/covid-sim/report9/population/NetworkGB_120T.bin /R:1.3 98798150 729101 17389101 4797132\n"
     ]
    },
    {
     "name": "stderr",
     "output_type": "stream",
     "text": [
      "Param=/home/pmms2/report9/covid-sim/report9/GB_suppress/p_PC_CI_HQ_SD.txt\n",
      "Out=/home/pmms2/report9/covid-sim/report9/GB_suppress/output/PC_CI_HQ_SD_400_300_R0=2.6\n",
      "Dens=/home/pmms2/report9/covid-sim/report9/population/GB_pop2018.bin\n",
      "Bitmap Format = *.bmp\n",
      "sizeof(int)=4 sizeof(long)=8 sizeof(float)=4 sizeof(double)=8 sizeof(unsigned short int)=2 sizeof(int *)=8\n",
      "Assigned number of threads (120) > MAX_NUM_THREADS (96)\n",
      "Using 96 threads\n",
      "Thread 0 initialised\n",
      "Thread 93 initialised\n",
      "Thread 94 initialised\n",
      "Thread 6 initialised\n",
      "Thread 1 initialised\n",
      "Thread 7 initialised\n",
      "Thread 2 initialised\n",
      "Thread 12 initialised\n",
      "Thread 10 initialised\n",
      "Thread 5 initialised\n",
      "Thread 8 initialised\n",
      "Thread 20 initialised\n",
      "Thread 22 initialised\n",
      "Thread 18 initialised\n",
      "Thread 26 initialised\n",
      "Thread 30 initialised\n",
      "Thread 65 initialised\n",
      "Thread 16 initialised\n",
      "Thread 92 initialised\n",
      "Thread 3 initialised\n",
      "Thread 15 initialised\n",
      "Thread 27 initialised\n",
      "Thread 23 initialised\n",
      "Thread 17 initialised\n",
      "Thread 40 initialised\n",
      "Thread 9 initialised\n",
      "Thread 14 initialised\n",
      "Thread 37 initialised\n",
      "Thread 29 initialised\n",
      "Thread 45 initialised\n",
      "Thread 13 initialised\n",
      "Thread 19 initialised\n",
      "Thread 69 initialised\n",
      "Thread 11 initialised\n",
      "Thread 25 initialised\n",
      "Thread 35 initialised\n",
      "Thread 41 initialised\n",
      "Thread 4 initialised\n",
      "Thread 46 initialised\n",
      "Thread 28 initialised\n",
      "Thread 33 initialised\n",
      "Thread 48 initialised\n",
      "Thread 53 initialised\n",
      "Thread 49 initialised\n",
      "Thread 64 initialised\n",
      "Thread 54 initialised\n",
      "Thread 21 initialised\n",
      "Thread 73 initialised\n",
      "Thread 95 initialised\n",
      "Thread 24 initialised\n",
      "Thread 58 initialised\n",
      "Thread 31 initialised\n",
      "Thread 62 initialised\n",
      "Thread 39 initialised\n",
      "Thread 68 initialised\n",
      "Thread 66 initialised\n",
      "Thread 47 initialised\n",
      "Thread 61 initialised\n",
      "Thread 56 initialised\n",
      "Thread 72 initialised\n",
      "Thread 34 initialised\n",
      "Thread 70 initialised\n",
      "Thread 36 initialised\n",
      "Thread 77 initialised\n",
      "Thread 32 initialised\n",
      "Thread 38 initialised\n",
      "Thread 42 initialised\n",
      "Thread 44 initialised\n",
      "Thread 50 initialised\n",
      "Thread 74 initialised\n",
      "Thread 51 initialised\n",
      "Thread 78 initialised\n",
      "Thread 81 initialised\n",
      "Thread 82 initialised\n",
      "Thread 60 initialised\n",
      "Thread 80 initialised\n",
      "Thread 76 initialised\n",
      "Thread 86 initialised\n",
      "Thread 85 initialised\n",
      "Thread 55 initialised\n",
      "Thread 84 initialised\n",
      "Thread 90 initialised\n",
      "Thread 57 initialised\n",
      "Thread 43 initialised\n",
      "Thread 89 initialised\n",
      "Thread 59 initialised\n",
      "Thread 52 initialised\n",
      "Thread 63 initialised\n",
      "Thread 67 initialised\n",
      "Thread 71 initialised\n",
      "Thread 88 initialised\n",
      "Thread 75 initialised\n",
      "Thread 79 initialised\n",
      "Thread 83 initialised\n",
      "Thread 87 initialised\n",
      "Thread 91 initialised\n",
      "Update step = 0.250000\n",
      "Sampling step = 1.000000\n",
      "Updates per sample=4\n",
      "TimeStepsPerDay=4.000000\n",
      "Warning - Extra elements for Household size distribution (12 - only needed 10)\n",
      "Using 9 administrative units\n",
      "Warning: Expected 2 values for matrix Location of initial infecteds - actually available; 4\n",
      "Warning - Extra elements for Daily importation time profile (181 - only needed 180)\n",
      "Warning - Extra elements for Infectiousness profile (57 - only needed 56)\n",
      "Warning - Extra elements for False positive relative incidence by age (34 - only needed 17)\n",
      "Warning - Extra elements for Prop_Mild_ByAge (0 - only needed 17)\n",
      "Warning - Extra elements for Prop_ILI_ByAge (0 - only needed 17)\n",
      "Warning - Extra elements for Prop_SARI_ByAge (0 - only needed 17)\n",
      "Rescaled transmission coefficients by factor of 1.3\n",
      "Parameters read\n",
      "Scanning population density file\n",
      "Adjusted bounding box = (-8.625, 49.875)- (1.875, 60.975)\n",
      "Number of cells = 20720 (140 x 148)\n",
      "Population size = 65293913 \n",
      "Number of microcells = 1678320\n",
      "Bitmap width = 632\n",
      "Bitmap height = 1000\n",
      "Coords xmcell=525.532 m   ymcell = 926.107 m\n",
      "Density file contains 340286 datapoints.\n",
      "340286 valid microcells read from density file.\n",
      "Population files read.\n",
      "Number of hosts assigned = 65293913\n",
      "Number of cells with non-zero population = 6195\n",
      "Number of microcells with non-zero population = 332207\n",
      "sizeof(Person)=128\n",
      "Cells assigned\n",
      "Household sizes assigned to 65293913 people\n",
      "Ages/households assigned       \n",
      "Checking cells...\n",
      "Allocating place/age groups...\n",
      "Configuring places...\n",
      "[2:392 1.29086e+06] [3:1788287 2.55367e+07] [1:5528 5.58283e+06] [0:29162 6.70718e+06] Places assigned\n",
      "Allocated cell and host memory\n",
      "Assigned hosts to cells\n",
      "Initialising places...\n",
      "65293913 loaded            \n",
      "Initialising groups in places\n",
      "Groups initialised\n",
      "Initialising kernel...\n",
      "0 care home residents\n",
      "0 care home workers\n",
      "Places intialised.\n",
      "Calculated approx cell probabilities\n",
      "Number to be vaccinated=58765598\n",
      "Configured mass vaccination queue.\n",
      "UTM dist horiz=9459.58 9459.58\n",
      "UTM dist vert=16669.9 16669.9\n",
      "UTM dist diag=19158 19158\n",
      "Model configuration complete.\n",
      "Household mean size = 2.36869\n",
      "Household SAR = 0.351301\n",
      "Household R0 = 0.72923\n",
      "0.204263  0.159847  0.0391017  0.42474  \n",
      "R0 for places = 0.827951\n",
      "Set spatial beta to 0.0930338\n",
      "R0 for random spatial = 1.04282\n",
      "Overall R0 = 2.6\n",
      "Mean infectious period (sampled) = 14 (56)\n",
      "Model setup in 937.845753 seconds\n",
      "Finished InitModel.\n",
      "    t=799   20187967    0|0    44812280     293666 [=65293913]  293666 (0 0 0)   0.0114241                 \n",
      "End of run\n",
      "Extinction in 0 out of 1 runs\n",
      "Model ran in 20247.910735 seconds\n",
      "Model finished\n"
     ]
    },
    {
     "name": "stdout",
     "output_type": "stream",
     "text": [
      "Checking /home/pmms2/report9/covid-sim/report9/GB_suppress/output/PC_CI_HQ_SD_400_300_R0=2.6.avNE.severity.xls\n",
      "Index(['t', 'PropSocDist', 'Rt', 'TG', 'SI', 'S', 'I', 'R', 'incI', 'incC',\n",
      "       'Mild', 'ILI', 'SARI', 'Critical', 'CritRecov', 'SARIP', 'CriticalP',\n",
      "       'CritRecovP', 'prevQuarNotInfected', 'prevQuarNotSymptomatic',\n",
      "       'incMild', 'incILI', 'incSARI', 'incCritical', 'incCritRecov',\n",
      "       'incSARIP', 'incCriticalP', 'incCritRecovP', 'incDeath', 'incDeath_ILI',\n",
      "       'incDeath_SARI', 'incDeath_Critical', 'cumMild', 'cumILI', 'cumSARI',\n",
      "       'cumCritical', 'cumCritRecov', 'cumDeath', 'cumDeath_ILI',\n",
      "       'cumDeath_SARI', 'cumDeath_Critical', 'PropSocDist_v', 'Rt_v', 'TG_v',\n",
      "       'SI_v', 'S_v', 'I_v', 'R_v', 'incI_v', 'incC_v', 'Mild_v', 'ILI_v',\n",
      "       'SARI_v', 'Critical_v', 'CritRecov_v', 'incMild_v', 'incILI_v',\n",
      "       'incSARI_v', 'incCritical_v', 'incCritRecov_v', 'incDeath_v',\n",
      "       'incDeath_ILI_v', 'incDeath_SARI_v', 'incDeath_Critical_v', 'cumMild_v',\n",
      "       'cumILI_v', 'cumSARI_v', 'cumCritical_v', 'cumCritRecov_v',\n",
      "       'cumDeath_v', 'cumDeath_ILI_v', 'cumDeath_SARI_v',\n",
      "       'cumDeath_Critical_v'],\n",
      "      dtype='object')\n",
      "Param values:  [1.0327613739188108, 5.9066959943175315]\n",
      "tensor([  293666.,   587483.,   587483., 29772364.,        0.],\n",
      "       dtype=torch.float64)\n"
     ]
    }
   ],
   "source": [
    "y_star = covidf[0](mean_estimate.tolist())\n",
    "y_star = torch.tensor([y_star[0], y_star[1], y_star[2], y_star[3], y_star[4]])\n",
    "print(y_star)"
   ]
  },
  {
   "cell_type": "code",
   "execution_count": 15,
   "metadata": {},
   "outputs": [
    {
     "name": "stdout",
     "output_type": "stream",
     "text": [
      "tensor([293666., 587483.], dtype=torch.float64)\n"
     ]
    }
   ],
   "source": [
    "print(y_star)"
   ]
  },
  {
   "cell_type": "code",
   "execution_count": 17,
   "metadata": {},
   "outputs": [
    {
     "name": "stdout",
     "output_type": "stream",
     "text": [
      "[  46071.   92584.   93320. 6838963.       0.]\n"
     ]
    }
   ],
   "source": [
    "print(covidf[2])"
   ]
  },
  {
   "cell_type": "code",
   "execution_count": 19,
   "metadata": {},
   "outputs": [
    {
     "name": "stdout",
     "output_type": "stream",
     "text": [
      "True\n"
     ]
    }
   ],
   "source": [
    "import os\n",
    "print(os.path.exists(\"/home/pmms2/report9/covid-sim/report9/GB_suppress/output/PC_CI_HQ_SD_400_300_R0=2.6.avNE.severity.xls\"))"
   ]
  },
  {
   "cell_type": "code",
   "execution_count": null,
   "metadata": {},
   "outputs": [],
   "source": []
  }
 ],
 "metadata": {
  "kernelspec": {
   "display_name": "py_env",
   "language": "python",
   "name": "python3"
  },
  "language_info": {
   "codemirror_mode": {
    "name": "ipython",
    "version": 3
   },
   "file_extension": ".py",
   "mimetype": "text/x-python",
   "name": "python",
   "nbconvert_exporter": "python",
   "pygments_lexer": "ipython3",
   "version": "3.11.6"
  }
 },
 "nbformat": 4,
 "nbformat_minor": 2
}
