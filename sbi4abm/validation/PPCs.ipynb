{
 "cells": [
  {
   "cell_type": "code",
   "execution_count": 1,
   "id": "cdef4714",
   "metadata": {},
   "outputs": [],
   "source": [
    "import sys\n",
    "sys.path.append('../..')"
   ]
  },
  {
   "cell_type": "code",
   "execution_count": 2,
   "metadata": {},
   "outputs": [
    {
     "name": "stderr",
     "output_type": "stream",
     "text": [
      "/home/pmms2/sbi4abm/py_env/lib/python3.11/site-packages/tqdm/auto.py:21: TqdmWarning: IProgress not found. Please update jupyter and ipywidgets. See https://ipywidgets.readthedocs.io/en/stable/user_install.html\n",
      "  from .autonotebook import tqdm as notebook_tqdm\n"
     ]
    }
   ],
   "source": [
    "import sbi4abm.sbi\n",
    "from sbi4abm.sbi import analysis, utils\n",
    "from sbi4abm.utils import sampling, plotting\n",
    "import matplotlib\n",
    "import matplotlib.pyplot as plt\n",
    "import numpy as np"
   ]
  },
  {
   "cell_type": "code",
   "execution_count": 3,
   "metadata": {},
   "outputs": [],
   "source": [
    "matplotlib.rc('text', usetex=True)\n",
    "plt.rcParams.update({\n",
    "  \"text.usetex\": True,\n",
    "  \"font.family\": \"Helvetica\"\n",
    "})\n",
    "plt.rcParams.update({\n",
    "    'text.latex.preamble':r\"\\usepackage{amsmath}\"+\"\\n\"+r\"\\usepackage{bm}\"\n",
    "})\n"
   ]
  },
  {
   "cell_type": "code",
   "execution_count": 3,
   "metadata": {
    "scrolled": false
   },
   "outputs": [
    {
     "data": {
      "image/png": "[encoded data removed]",
      "text/plain": [
       "<Figure size 720x720 with 9 Axes>"
      ]
     },
     "metadata": {
      "needs_background": "light"
     },
     "output_type": "display_data"
    }
   ],
   "source": [
    "hop = np.loadtxt(\"../../job_data/Hopfield/large_maf_rgcn/1660145547.8277514/samples.txt\")\n",
    "\n",
    "plt.rcParams.update({'font.size':18}) # something about latex font\n",
    "_ = analysis.pairplot(hop, limits=[[0,5], [0,1], [0,1]], points=[np.array([1., 0.8, 0.5])],\n",
    "                      points_colors='r', labels=[r\"$\\rho$\", r\"$\\epsilon$\", r\"$\\lambda$\"],\n",
    "                      hist_diag={\"alpha\": 1.0, \"bins\": 25, \"density\": False, \"histtype\": \"step\"})"
   ]
  },
  {
   "cell_type": "code",
   "execution_count": 4,
   "metadata": {},
   "outputs": [],
   "source": [
    "from sbi4abm.utils import io\n",
    "\n",
    "hopf = io.load_task('hop')"
   ]
  },
  {
   "cell_type": "markdown",
   "metadata": {},
   "source": [
    "Posterior predictives"
   ]
  },
  {
   "cell_type": "code",
   "execution_count": 5,
   "metadata": {},
   "outputs": [
    {
     "ename": "NameError",
     "evalue": "name 'hop' is not defined",
     "output_type": "error",
     "traceback": [
      "\u001b[0;31m---------------------------------------------------------------------------\u001b[0m",
      "\u001b[0;31mNameError\u001b[0m                                 Traceback (most recent call last)",
      "Cell \u001b[0;32mIn[5], line 1\u001b[0m\n\u001b[0;32m----> 1\u001b[0m idxs \u001b[38;5;241m=\u001b[39m np\u001b[38;5;241m.\u001b[39mrandom\u001b[38;5;241m.\u001b[39mrandint(\u001b[43mhop\u001b[49m\u001b[38;5;241m.\u001b[39mshape[\u001b[38;5;241m0\u001b[39m], size\u001b[38;5;241m=\u001b[39m\u001b[38;5;241m1000\u001b[39m)\n",
      "\u001b[0;31mNameError\u001b[0m: name 'hop' is not defined"
     ]
    }
   ],
   "source": [
    "idxs = np.random.randint(hop.shape[0], size=1000)"
   ]
  },
  {
   "cell_type": "code",
   "execution_count": 21,
   "metadata": {},
   "outputs": [],
   "source": [
    "pps = []\n",
    "for idx in idxs:\n",
    "    data = hopf[0](list(hop[idx]))\n",
    "    pps.append(data)"
   ]
  },
  {
   "cell_type": "code",
   "execution_count": 98,
   "metadata": {},
   "outputs": [],
   "source": [
    "n_neg_triads = [] # Average per topic of sentiment values in final time step\n",
    "glob_clust_coeffs = [] # Global clustering coefficient of networks obtained by keeping edges > 0 otherwise removing\n",
    "corr_weight_ops = [] # Correlation between the weights of network and overlap in opinion profile\n",
    "iu1 = np.triu_indices(50)\n",
    "for pp in pps:\n",
    "    final = pp[-1].numpy()\n",
    "    w, s = final[:, :-2], final[:, -2:]\n",
    "    A = np.sign(w)\n",
    "    n_neg_triad = np.sum(np.diag(A.dot(A).dot(A)) + 1) / 2\n",
    "    n_neg_triads.append(n_neg_triad)\n",
    "    A = (w >= 0).astype(int)\n",
    "    k = np.sum(A, axis=1)\n",
    "    glob_clust_coeff = np.trace((A.dot(A)).dot(A)) / np.sum(k*(k-1))\n",
    "    glob_clust_coeffs.append(glob_clust_coeff)\n",
    "    overlaps = np.dot(s, s.T)[iu1]/2\n",
    "    weights = w[iu1]\n",
    "    corr_weight_op = np.corrcoef(weights, overlaps)\n",
    "    corr_weight_ops.append(corr_weight_op[0,1])"
   ]
  },
  {
   "cell_type": "markdown",
   "metadata": {},
   "source": [
    "Prior predictives"
   ]
  },
  {
   "cell_type": "code",
   "execution_count": 100,
   "metadata": {},
   "outputs": [],
   "source": [
    "pps_ = []\n",
    "for idx in idxs:\n",
    "    data = hopf[0](list(hopf[1].sample().tolist()))\n",
    "    pps_.append(data)\n",
    "\n",
    "n_neg_triads_ = [] # Average per topic of sentiment values in final time step\n",
    "glob_clust_coeffs_ = [] # Global clustering coefficient of networks obtained by keeping edges > 0 otherwise removing\n",
    "corr_weight_ops_ = [] # Correlation between the weights of network and overlap in opinion profile\n",
    "iu1 = np.triu_indices(50)\n",
    "for pp in pps_:\n",
    "    final = pp[-1].numpy()\n",
    "    w, s = final[:, :-2], final[:, -2:]\n",
    "    A = np.sign(w)\n",
    "    n_neg_triad_ = np.sum(np.diag(A.dot(A).dot(A)) + 1) / 2 \n",
    "    n_neg_triads_.append(n_neg_triad_)\n",
    "    A = (w >= 0).astype(int)\n",
    "    k = np.sum(A, axis=1)\n",
    "    glob_clust_coeff = np.trace((A.dot(A)).dot(A)) / np.sum(k*(k-1))\n",
    "    glob_clust_coeffs_.append(glob_clust_coeff)\n",
    "    overlaps = np.dot(s, s.T)[iu1]/2\n",
    "    weights = w[iu1]\n",
    "    corr_weight_op = np.corrcoef(weights, overlaps)\n",
    "    corr_weight_ops_.append(corr_weight_op[0,1])"
   ]
  },
  {
   "cell_type": "markdown",
   "metadata": {},
   "source": [
    "Observation"
   ]
  },
  {
   "cell_type": "code",
   "execution_count": 108,
   "metadata": {},
   "outputs": [],
   "source": [
    "final = hopf[2][-1]\n",
    "w, s = final[:, :-2], final[:, -2:]\n",
    "A = np.sign(w)\n",
    "n_neg_triad = np.sum(np.diag((A.dot(A)).dot(A)) + 1) / 2 \n",
    "A = (w >= 0).astype(int)\n",
    "k = np.sum(A, axis=1)\n",
    "glob_clust_coeff = np.trace((A.dot(A)).dot(A)) / np.sum(k*(k-1))\n",
    "overlaps = np.dot(s, s.T)[iu1]/2\n",
    "weights = w[iu1]\n",
    "corr_weight_op = np.corrcoef(weights, overlaps)[0,1]"
   ]
  },
  {
   "cell_type": "code",
   "execution_count": 112,
   "metadata": {},
   "outputs": [],
   "source": [
    "from matplotlib.lines import Line2D\n",
    "import matplotlib.patches as patches"
   ]
  },
  {
   "cell_type": "code",
   "execution_count": 121,
   "metadata": {},
   "outputs": [
    {
     "data": {
      "image/png": "[encoded data removed]",
      "text/plain": [
       "<Figure size 1080x360 with 2 Axes>"
      ]
     },
     "metadata": {
      "needs_background": "light"
     },
     "output_type": "display_data"
    }
   ],
   "source": [
    "fig, axes = plt.subplots(1, 2, figsize=(15,5))\n",
    "axes[0].hist(n_neg_triads, bins=20, color='b', alpha=0.2)#, density=True)\n",
    "axes[0].hist(n_neg_triads_, bins=20, color='r', alpha=0.2)#, density=True)\n",
    "axes[0].axvline(n_neg_triad, c='g')\n",
    "axes[0].set_xlabel(r\"(a) Number of balanced triads\", fontsize=18)\n",
    "axes[0].set_xticks([0, 15000, 30000, 45000, 60000])\n",
    "\n",
    "axes[1].hist(corr_weight_ops, bins=20, color='b', alpha=0.2)#, density=True)\n",
    "axes[1].hist(corr_weight_ops_, bins=20, color='r', alpha=0.2)#, density=True)\n",
    "axes[1].axvline(corr_weight_op, c='g')\n",
    "axes[1].set_xlabel(r\"(b) Weight-opinion overlap correlation coefficient\", fontsize=18)\n",
    "\n",
    "handles = [patches.Rectangle((0,0),0,0,facecolor='r',\n",
    "                             label=r\"${\\rm Prior}$ ${\\rm predictive}$ ${\\rm samples}$\", alpha=0.2),\n",
    "           patches.Rectangle((0,0),0,0,facecolor='b',\n",
    "                             label=r\"${\\rm Posterior}$ ${\\rm predictive}$ ${\\rm samples}$\", alpha=0.2),\n",
    "           Line2D([0], [0], color='g', label=r\"${\\rm Observed}$ ${\\rm values}$\", lw=2, linestyle=\"-\")]\n",
    "axes[1].legend(handles=handles, loc='upper left', ncol=1, fontsize=18)\n",
    "plt.savefig(\"./overleaf_plots/graph_posterior_predictives.png\", dpi=1000, format='png', bbox_inches='tight')"
   ]
  },
  {
   "cell_type": "markdown",
   "metadata": {},
   "source": [
    "The (statistics of) the observed data and the data generated from the posterior predictive distribution for the observed data makes the (statistics of) the observed data typical. This suggests that the posterior for the observed data is concentrated in regions of the parameter space that produce dynamics similar to the observed data and is an indication of the success of the posterior estimation pipeline."
   ]
  },
  {
   "cell_type": "code",
   "execution_count": null,
   "metadata": {},
   "outputs": [],
   "source": []
  }
 ],
 "metadata": {
  "kernelspec": {
   "display_name": "base",
   "language": "python",
   "name": "python3"
  },
  "language_info": {
   "codemirror_mode": {
    "name": "ipython",
    "version": 3
   },
   "file_extension": ".py",
   "mimetype": "text/x-python",
   "name": "python",
   "nbconvert_exporter": "python",
   "pygments_lexer": "ipython3",
   "version": "3.11.6"
  }
 },
 "nbformat": 4,
 "nbformat_minor": 5
}
